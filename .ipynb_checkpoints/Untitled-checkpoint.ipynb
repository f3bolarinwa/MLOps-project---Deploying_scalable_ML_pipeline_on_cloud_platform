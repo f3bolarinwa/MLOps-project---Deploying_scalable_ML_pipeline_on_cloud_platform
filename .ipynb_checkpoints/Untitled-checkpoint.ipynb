{
 "cells": [
  {
   "cell_type": "code",
   "execution_count": 71,
   "id": "a935c049",
   "metadata": {},
   "outputs": [],
   "source": [
    "import pandas as pd\n",
    "import joblib\n",
    "import yaml\n",
    "from sklearn.model_selection import train_test_split\n",
    "from ML.data import process_data\n",
    "from ML.model import train_model, compute_model_metrics, inference, slice_data #, process_data"
   ]
  },
  {
   "cell_type": "code",
   "execution_count": 72,
   "id": "bdafdb2c",
   "metadata": {},
   "outputs": [],
   "source": [
    "model = joblib.load(\"model/classifier_model.joblib\")"
   ]
  },
  {
   "cell_type": "code",
   "execution_count": 73,
   "id": "49c89e2d",
   "metadata": {},
   "outputs": [],
   "source": [
    "#model = joblib.load('./model/classifier_model.joblib')"
   ]
  },
  {
   "cell_type": "code",
   "execution_count": 74,
   "id": "f84af133",
   "metadata": {},
   "outputs": [],
   "source": [
    "# Reading configuration file\n",
    "with open('config.yaml') as f:\n",
    "    config = yaml.load(f, Loader=yaml.FullLoader)"
   ]
  },
  {
   "cell_type": "code",
   "execution_count": 75,
   "id": "5b38c7e0",
   "metadata": {},
   "outputs": [],
   "source": [
    "# loading in the data.\n",
    "df = pd.read_csv('./data/census_clean.csv')"
   ]
  },
  {
   "cell_type": "code",
   "execution_count": 76,
   "id": "332b805e",
   "metadata": {},
   "outputs": [],
   "source": [
    "# categorical features in data\n",
    "cat_features = config['data']['cat_features']"
   ]
  },
  {
   "cell_type": "code",
   "execution_count": 77,
   "id": "7ddb82c2",
   "metadata": {},
   "outputs": [],
   "source": [
    "# save encoder and binarizer of the training data\n",
    "encoder_train = joblib.load('./model/encoder_train.joblib')\n",
    "lb_train = joblib.load('./model/lb_train.joblib')"
   ]
  },
  {
   "cell_type": "code",
   "execution_count": 78,
   "id": "1658aadf",
   "metadata": {},
   "outputs": [],
   "source": [
    "# train-test split\n",
    "train, test = train_test_split(df, test_size=config['model_training']['test_size'],\n",
    "                               random_state=config['model_training']['random_state'],\n",
    "                               stratify=df['salary'])"
   ]
  },
  {
   "cell_type": "code",
   "execution_count": 79,
   "id": "11ed4065",
   "metadata": {},
   "outputs": [
    {
     "name": "stderr",
     "output_type": "stream",
     "text": [
      "/Users/femibolarinwa_comp/miniconda3/envs/proj3/lib/python3.8/site-packages/sklearn/preprocessing/_encoders.py:972: FutureWarning: `sparse` was renamed to `sparse_output` in version 1.2 and will be removed in 1.4. `sparse_output` is ignored unless you leave `sparse` to its default value.\n",
      "  warnings.warn(\n"
     ]
    }
   ],
   "source": [
    "X_train, y_train, encoder, lb = process_data(\n",
    "    train, categorical_features=cat_features,\n",
    "    label=\"salary\", training=True)#, encoder=encoder_train, lb=lb_train\n",
    "#)"
   ]
  },
  {
   "cell_type": "code",
   "execution_count": 80,
   "id": "744aa097",
   "metadata": {},
   "outputs": [],
   "source": [
    "preds = inference(model, X_train)#[0])#,:])"
   ]
  },
  {
   "cell_type": "code",
   "execution_count": 81,
   "id": "68535464",
   "metadata": {},
   "outputs": [],
   "source": [
    "prediction = lb.inverse_transform(preds)#[9760]"
   ]
  },
  {
   "cell_type": "code",
   "execution_count": 82,
   "id": "f9628955",
   "metadata": {},
   "outputs": [
    {
     "data": {
      "text/plain": [
       "array([' <=50K', ' >50K', ' <=50K', ..., ' <=50K', ' >50K', ' <=50K'],\n",
       "      dtype='<U6')"
      ]
     },
     "execution_count": 82,
     "metadata": {},
     "output_type": "execute_result"
    }
   ],
   "source": [
    "prediction"
   ]
  },
  {
   "cell_type": "code",
   "execution_count": 68,
   "id": "229f0936",
   "metadata": {},
   "outputs": [
    {
     "data": {
      "text/plain": [
       "32537"
      ]
     },
     "execution_count": 68,
     "metadata": {},
     "output_type": "execute_result"
    }
   ],
   "source": [
    "len(prediction)"
   ]
  },
  {
   "cell_type": "code",
   "execution_count": 69,
   "id": "cb970576",
   "metadata": {},
   "outputs": [
    {
     "data": {
      "text/plain": [
       "32537"
      ]
     },
     "execution_count": 69,
     "metadata": {},
     "output_type": "execute_result"
    }
   ],
   "source": [
    "len(X_train)"
   ]
  },
  {
   "cell_type": "code",
   "execution_count": 70,
   "id": "ec3bfdcc",
   "metadata": {},
   "outputs": [
    {
     "data": {
      "text/html": [
       "<div>\n",
       "<style scoped>\n",
       "    .dataframe tbody tr th:only-of-type {\n",
       "        vertical-align: middle;\n",
       "    }\n",
       "\n",
       "    .dataframe tbody tr th {\n",
       "        vertical-align: top;\n",
       "    }\n",
       "\n",
       "    .dataframe thead th {\n",
       "        text-align: right;\n",
       "    }\n",
       "</style>\n",
       "<table border=\"1\" class=\"dataframe\">\n",
       "  <thead>\n",
       "    <tr style=\"text-align: right;\">\n",
       "      <th></th>\n",
       "      <th>age</th>\n",
       "      <th>workclass</th>\n",
       "      <th>fnlgt</th>\n",
       "      <th>education</th>\n",
       "      <th>marital-status</th>\n",
       "      <th>occupation</th>\n",
       "      <th>relationship</th>\n",
       "      <th>race</th>\n",
       "      <th>sex</th>\n",
       "      <th>hours-per-week</th>\n",
       "      <th>native-country</th>\n",
       "      <th>salary</th>\n",
       "    </tr>\n",
       "  </thead>\n",
       "  <tbody>\n",
       "    <tr>\n",
       "      <th>30970</th>\n",
       "      <td>40</td>\n",
       "      <td>Self-emp-inc</td>\n",
       "      <td>104235</td>\n",
       "      <td>Masters</td>\n",
       "      <td>Never-married</td>\n",
       "      <td>Other-service</td>\n",
       "      <td>Own-child</td>\n",
       "      <td>White</td>\n",
       "      <td>Male</td>\n",
       "      <td>99</td>\n",
       "      <td>United-States</td>\n",
       "      <td>&lt;=50K</td>\n",
       "    </tr>\n",
       "    <tr>\n",
       "      <th>9530</th>\n",
       "      <td>48</td>\n",
       "      <td>Self-emp-not-inc</td>\n",
       "      <td>167918</td>\n",
       "      <td>Masters</td>\n",
       "      <td>Married-civ-spouse</td>\n",
       "      <td>Sales</td>\n",
       "      <td>Husband</td>\n",
       "      <td>Asian-Pac-Islander</td>\n",
       "      <td>Male</td>\n",
       "      <td>50</td>\n",
       "      <td>India</td>\n",
       "      <td>&lt;=50K</td>\n",
       "    </tr>\n",
       "    <tr>\n",
       "      <th>21735</th>\n",
       "      <td>67</td>\n",
       "      <td>?</td>\n",
       "      <td>159542</td>\n",
       "      <td>5th-6th</td>\n",
       "      <td>Widowed</td>\n",
       "      <td>?</td>\n",
       "      <td>Unmarried</td>\n",
       "      <td>Black</td>\n",
       "      <td>Female</td>\n",
       "      <td>40</td>\n",
       "      <td>United-States</td>\n",
       "      <td>&lt;=50K</td>\n",
       "    </tr>\n",
       "    <tr>\n",
       "      <th>22304</th>\n",
       "      <td>40</td>\n",
       "      <td>Private</td>\n",
       "      <td>79586</td>\n",
       "      <td>Prof-school</td>\n",
       "      <td>Married-civ-spouse</td>\n",
       "      <td>Prof-specialty</td>\n",
       "      <td>Husband</td>\n",
       "      <td>Asian-Pac-Islander</td>\n",
       "      <td>Male</td>\n",
       "      <td>40</td>\n",
       "      <td>?</td>\n",
       "      <td>&gt;50K</td>\n",
       "    </tr>\n",
       "    <tr>\n",
       "      <th>5370</th>\n",
       "      <td>27</td>\n",
       "      <td>Private</td>\n",
       "      <td>36851</td>\n",
       "      <td>Assoc-voc</td>\n",
       "      <td>Married-civ-spouse</td>\n",
       "      <td>Sales</td>\n",
       "      <td>Husband</td>\n",
       "      <td>White</td>\n",
       "      <td>Male</td>\n",
       "      <td>35</td>\n",
       "      <td>United-States</td>\n",
       "      <td>&lt;=50K</td>\n",
       "    </tr>\n",
       "  </tbody>\n",
       "</table>\n",
       "</div>"
      ],
      "text/plain": [
       "       age          workclass   fnlgt     education       marital-status  \\\n",
       "30970   40       Self-emp-inc  104235       Masters        Never-married   \n",
       "9530    48   Self-emp-not-inc  167918       Masters   Married-civ-spouse   \n",
       "21735   67                  ?  159542       5th-6th              Widowed   \n",
       "22304   40            Private   79586   Prof-school   Married-civ-spouse   \n",
       "5370    27            Private   36851     Assoc-voc   Married-civ-spouse   \n",
       "\n",
       "            occupation relationship                 race      sex  \\\n",
       "30970    Other-service    Own-child                White     Male   \n",
       "9530             Sales      Husband   Asian-Pac-Islander     Male   \n",
       "21735                ?    Unmarried                Black   Female   \n",
       "22304   Prof-specialty      Husband   Asian-Pac-Islander     Male   \n",
       "5370             Sales      Husband                White     Male   \n",
       "\n",
       "       hours-per-week  native-country  salary  \n",
       "30970              99   United-States   <=50K  \n",
       "9530               50           India   <=50K  \n",
       "21735              40   United-States   <=50K  \n",
       "22304              40               ?    >50K  \n",
       "5370               35   United-States   <=50K  "
      ]
     },
     "execution_count": 70,
     "metadata": {},
     "output_type": "execute_result"
    }
   ],
   "source": [
    "train.tail()"
   ]
  },
  {
   "cell_type": "code",
   "execution_count": null,
   "id": "d982ae69",
   "metadata": {},
   "outputs": [],
   "source": []
  }
 ],
 "metadata": {
  "kernelspec": {
   "display_name": "Python 3 (ipykernel)",
   "language": "python",
   "name": "python3"
  },
  "language_info": {
   "codemirror_mode": {
    "name": "ipython",
    "version": 3
   },
   "file_extension": ".py",
   "mimetype": "text/x-python",
   "name": "python",
   "nbconvert_exporter": "python",
   "pygments_lexer": "ipython3",
   "version": "3.8.17"
  }
 },
 "nbformat": 4,
 "nbformat_minor": 5
}
